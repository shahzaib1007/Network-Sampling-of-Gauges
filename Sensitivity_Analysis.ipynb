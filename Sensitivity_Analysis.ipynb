{
 "cells": [
  {
   "cell_type": "code",
   "execution_count": null,
   "id": "b0136afd",
   "metadata": {},
   "outputs": [],
   "source": [
    "import dask.dataframe as dd\n",
    "from dask.multiprocessing import get\n",
    "import ast,os\n",
    "import pandas as pd\n",
    "from collections import Counter\n",
    "import matplotlib.pyplot as plt"
   ]
  },
  {
   "cell_type": "code",
   "execution_count": null,
   "id": "19cd9503",
   "metadata": {},
   "outputs": [],
   "source": [
    "### Combines all the chunks of csv files generated from the monte carlo simulations. \n",
    "### Over here is the example of NE Region of Bangladesh \n",
    "directory_path = r'Path to Directory where Monte Carlo Simulations will be saved/NE/'\n",
    "dfs = []\n",
    "\n",
    "for filename in os.listdir(directory_path):\n",
    "    if filename.endswith('.csv'):\n",
    "        file_path = os.path.join(directory_path, filename)\n",
    "        df = pd.read_csv(file_path)\n",
    "        dfs.append(df)\n",
    "\n",
    "combined_df = pd.concat(dfs, ignore_index=True)"
   ]
  },
  {
   "cell_type": "code",
   "execution_count": null,
   "id": "411dd324",
   "metadata": {},
   "outputs": [],
   "source": [
    "def convert_string_to_list(str_tuple):\n",
    "    if pd.notna(str_tuple):\n",
    "        tuple_result = ast.literal_eval(str_tuple)\n",
    "        return list(tuple_result)\n",
    "    else:\n",
    "        return []\n",
    "\n",
    "# read the CSV file using Dask DataFrame\n",
    "ddf = dd.concat(dfs, ignore_index=True)\n",
    "\n",
    "# apply your function\n",
    "meta = pd.Series(dtype=object)  # adjust this to match the output type of your function\n",
    "ddf['Gauge_Combination'] = ddf['Gauge_Combination'].map(convert_string_to_list, meta=meta)\n",
    "\n",
    "# select your desired columns\n",
    "ddf = ddf[['Gauge_Combination','Cummulative_Volume']]\n",
    "\n",
    "# compute the result\n",
    "df_result = ddf.compute().reset_index(drop = True)\n",
    "# Calculate the length of each 'Names' list\n",
    "df_result['Names_length'] = df_result['Gauge_Combination'].apply(len)\n",
    "df_result\n",
    "\n",
    "df_result.head(3)\n"
   ]
  },
  {
   "cell_type": "code",
   "execution_count": null,
   "id": "ad088c99",
   "metadata": {},
   "outputs": [],
   "source": [
    "Benchmark_Vol = df_result['Cummulative_Volume'][df_result['Names_length'].idxmax()]\n",
    "df_result1 = df_result.copy()\n",
    "# df_result1 = df_result1.drop(df_result1[df_result1['Names_length'] == 14].index)\n",
    "df_result1['PError'] = (abs(df_result1['Cummulative_Volume'] - Benchmark_Vol))/Benchmark_Vol\n",
    "df_result1=df_result1[['Gauge_Combination','PError']]\n",
    "# Define a threshold for 'high performing' subsets\n",
    "threshold = 0.1\n",
    "\n",
    "# Count occurrences of gauges in high performing subsets\n",
    "gauge_counter = Counter()\n",
    "df_tuple = tuple(df_result1.to_records(index=False))\n",
    "for subset, score in df_tuple:\n",
    "    if score <= threshold:\n",
    "        gauge_counter.update(subset)\n",
    "\n",
    "# Print gauges sorted by their count (most common first)\n",
    "print(gauge_counter.most_common())\n"
   ]
  }
 ],
 "metadata": {
  "kernelspec": {
   "display_name": "Python 3 (ipykernel)",
   "language": "python",
   "name": "python3"
  },
  "language_info": {
   "codemirror_mode": {
    "name": "ipython",
    "version": 3
   },
   "file_extension": ".py",
   "mimetype": "text/x-python",
   "name": "python",
   "nbconvert_exporter": "python",
   "pygments_lexer": "ipython3",
   "version": "3.9.16"
  }
 },
 "nbformat": 4,
 "nbformat_minor": 5
}
