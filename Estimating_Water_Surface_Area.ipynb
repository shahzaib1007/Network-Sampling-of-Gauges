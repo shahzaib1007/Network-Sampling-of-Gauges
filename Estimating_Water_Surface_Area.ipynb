{
 "cells": [
  {
   "cell_type": "code",
   "execution_count": null,
   "metadata": {},
   "outputs": [],
   "source": [
    "import pandas as pd\n",
    "import numpy as np\n",
    "import matplotlib.pyplot as plt\n",
    "import xarray as xr\n",
    "import datetime\n",
    "import os\n",
    "import import_ipynb\n",
    "import glob\n",
    "import warnings\n",
    "import ee\n",
    "ee.Initialize()\n",
    "import geemap\n",
    "# from Master_phd import *\n",
    "warnings.filterwarnings(\"ignore\") \n"
   ]
  },
  {
   "cell_type": "code",
   "execution_count": null,
   "metadata": {},
   "outputs": [],
   "source": [
    "file_list = []\n",
    "for files in glob.glob(r'Path to shapefiles of the gauged waterbodies\\\\*.shp'):\n",
    "    file_list.append(files)"
   ]
  },
  {
   "cell_type": "code",
   "execution_count": null,
   "metadata": {},
   "outputs": [],
   "source": [
    "names = []\n",
    "for i in range(len(file_list)):\n",
    "    names.append(file_list[i].split('\\\\')[-1].split('.shp')[0])"
   ]
  },
  {
   "cell_type": "code",
   "execution_count": null,
   "metadata": {},
   "outputs": [],
   "source": [
    "roi_names = []\n",
    "for i in range(len(names)):\n",
    "    new_name =geemap.shp_to_ee(file_list[i])\n",
    "    roi_names.append(new_name)\n",
    "roi_names"
   ]
  },
  {
   "cell_type": "code",
   "execution_count": null,
   "metadata": {},
   "outputs": [],
   "source": [
    "from Master_phd import *"
   ]
  },
  {
   "cell_type": "code",
   "execution_count": null,
   "metadata": {},
   "outputs": [],
   "source": [
    "parent_dir=r'Path to shapefiles of the gauged waterbodies'"
   ]
  },
  {
   "cell_type": "code",
   "execution_count": null,
   "metadata": {},
   "outputs": [],
   "source": [
    "log_error=[]\n",
    "for i in range(len(names)):\n",
    "\n",
    "    try:\n",
    "        print('2 months didnt worked for '+str(names[i])+ ' Now going for 3 months')\n",
    "        L8_DSWE(parent_dir,roi_names[i],names[i],Date_Start=ee.Date('2019-01-01'),Date_End=ee.Date('2023-03-15'),month_advance=3,save_csv=True,save_pic=True)\n",
    "    except :\n",
    "        try:\n",
    "            print('3 months didnt worked for '+str(names[i]))\n",
    "            print('Going for 4 months')\n",
    "            L8_DSWE(parent_dir,roi_names[i],names[i],Date_Start=ee.Date('2019-01-01'),Date_End=ee.Date('2023-03-15'),month_advance=4,save_csv=True,save_pic=True)\n",
    "        except:\n",
    "            try:\n",
    "                print('4 months didnt worked for '+str(names[i]))\n",
    "                print('Going for 5 months')\n",
    "                L8_DSWE(parent_dir,roi_names[i],names[i],Date_Start=ee.Date('2019-01-01'),Date_End=ee.Date('2023-03-15'),month_advance=5,save_csv=True,save_pic=True)\n",
    "            except:\n",
    "                try:\n",
    "                    print('5 months didnt worked for '+str(names[i]))\n",
    "                    print('Going for 6 months')\n",
    "                    L8_DSWE(parent_dir,roi_names[i],names[i],Date_Start=ee.Date('2019-01-01'),Date_End=ee.Date('2023-03-15'),month_advance=6,save_csv=True,save_pic=True)\n",
    "                except:\n",
    "                    pass\n",
    "                    log_error.append(str('L8_DSWE did not work for '+names[i]))\n",
    "\n",
    "    \n",
    "    \n",
    "    try:\n",
    "        print('Trying with 3 months')\n",
    "        L8_MNDWI(parent_dir,roi_names[i],names[i],Date_Start=ee.Date('2019-01-01'),Date_End=ee.Date('2023-03-15'),month_advance=3,threshold= 0.03,save_csv=True,save_pic=True)\n",
    "    except:\n",
    "        try:\n",
    "            print('3 months didnt worked for '+str(names[i])+ ' Now going for 4 months')\n",
    "            L8_MNDWI(parent_dir,roi_names[i],names[i],Date_Start=ee.Date('2019-01-01'),Date_End=ee.Date('2023-03-15'),month_advance=4,threshold= 0.03,save_csv=True,save_pic=True)\n",
    "        except :\n",
    "            try:\n",
    "                print('4 months didnt worked for '+str(names[i]))\n",
    "                print('Going for 5 months')\n",
    "                L8_MNDWI(parent_dir,roi_names[i],names[i],Date_Start=ee.Date('2019-01-01'),Date_End=ee.Date('2023-03-15'),month_advance=5,threshold= 0.03,save_csv=True,save_pic=True)\n",
    "            except:\n",
    "                try:\n",
    "                    print('5 months didnt worked for '+str(names[i]))\n",
    "                    print('Going for 6 months')\n",
    "                    L8_MNDWI(parent_dir,roi_names[i],names[i],Date_Start=ee.Date('2019-01-01'),Date_End=ee.Date('2023-03-15'),month_advance=6,threshold= 0.03,save_csv=True,save_pic=True)\n",
    "                except:\n",
    "                    pass\n",
    "                    log_error.append(str('L8_MNDWI did not work for '+names[i]))\n",
    "    \n",
    "    \n",
    "    \n",
    "    try:\n",
    "        S1(parent_dir,roi_names[i],names[i],Date_Start=ee.Date('2019-01-01'),Date_End=ee.Date('2023-03-15'),nday = 20,save_csv=True,save_pic=True)\n",
    "    except:\n",
    "        try:\n",
    "            print('20 days didnt worked for '+str(names[i]))\n",
    "            print('Going for 30 months')\n",
    "            S1(parent_dir,roi_names[i],names[i],Date_Start=ee.Date('2019-01-01'),Date_End=ee.Date('2023-03-15'),nday = 30,save_csv=True,save_pic=True)\n",
    "        except:\n",
    "            pass\n",
    "            log_error.append(str('S1 did not work for '+names[i]))\n",
    "    \n",
    "    \n",
    "    try:\n",
    "        print('Trying with 3 months')\n",
    "        S2_DSWE(parent_dir,roi_names[i],names[i],Date_Start=ee.Date('2019-01-01'),Date_End=ee.Date('2023-03-15'),month_advance=3)\n",
    "    except:\n",
    "        try:\n",
    "            print('3 months didnt worked for '+str(names[i])+ ' Now going for 4 months')\n",
    "            S2_DSWE(parent_dir,roi_names[i],names[i],Date_Start=ee.Date('2019-01-01'),Date_End=ee.Date('2023-03-15'),month_advance=4)\n",
    "        except :\n",
    "            try:\n",
    "                print('4 months didnt worked for '+str(names[i]))\n",
    "                print('Going for 5 months')\n",
    "                S2_DSWE(parent_dir,roi_names[i],names[i],Date_Start=ee.Date('2019-01-01'),Date_End=ee.Date('2023-03-15'),month_advance=5)\n",
    "            except:\n",
    "                try:\n",
    "                    print('5 months didnt worked for '+str(names[i]))\n",
    "                    print('Going for 6 months')\n",
    "                    S2_DSWE(parent_dir,roi_names[i],names[i],Date_Start=ee.Date('2019-01-01'),Date_End=ee.Date('2023-03-15'),month_advance=6)\n",
    "                except:\n",
    "                    pass\n",
    "                    log_error.append(str('S2_DSWE did not work for '+names[i]))\n",
    "                    \n",
    "    \n",
    "    print('All Tech Job Done for '+names[i])\n",
    "         \n",
    "print('All Done')        "
   ]
  }
 ],
 "metadata": {
  "kernelspec": {
   "display_name": "Python 3 (ipykernel)",
   "language": "python",
   "name": "python3"
  },
  "language_info": {
   "codemirror_mode": {
    "name": "ipython",
    "version": 3
   },
   "file_extension": ".py",
   "mimetype": "text/x-python",
   "name": "python",
   "nbconvert_exporter": "python",
   "pygments_lexer": "ipython3",
   "version": "3.9.16"
  },
  "vscode": {
   "interpreter": {
    "hash": "fc0f6633fdd11ba89ae4855a0f175610992cae350b4c112234e4efd4e1814515"
   }
  }
 },
 "nbformat": 4,
 "nbformat_minor": 2
}
