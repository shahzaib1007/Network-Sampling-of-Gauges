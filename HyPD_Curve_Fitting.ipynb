{
 "cells": [
  {
   "cell_type": "code",
   "execution_count": null,
   "id": "e4d59400",
   "metadata": {},
   "outputs": [],
   "source": [
    "import xarray as xr\n",
    "import pandas as pd\n",
    "import matplotlib.pyplot as plt\n",
    "import numpy as np\n",
    "import netCDF4\n",
    "import datetime\n",
    "import geopandas as gpd\n",
    "from shapely.geometry import box\n",
    "import rioxarray\n",
    "import rasterio\n",
    "import regionmask\n",
    "from shapely.geometry import mapping\n",
    "import os,glob\n",
    "import rasterio.plot\n",
    "import cdsapi\n",
    "from pyproj import CRS\n",
    "from sklearn.model_selection import train_test_split\n",
    "from sklearn import linear_model\n",
    "import statsmodels.api as sm\n"
   ]
  },
  {
   "cell_type": "code",
   "execution_count": null,
   "id": "d02413de",
   "metadata": {},
   "outputs": [],
   "source": [
    "### The AV Curve files shoulde be in the following format:\n",
    "### Where Area is in km2 esm_mean is the mean volume in km3 from the ensemble of water \n",
    "### classification techniques, Temperature in deg Celcius, Precipitation is in mm, and TPI \n",
    "### is the terrain roughness. However you can change the code as per your need."
   ]
  },
  {
   "attachments": {},
   "cell_type": "markdown",
   "id": "0b1bbefd",
   "metadata": {},
   "source": [
    "| Date | Area | esm_mean | esm_max | esm_min | Temperature | Precipitation | TPI |\n",
    "| --- | --- | --- | --- | --- | --- | --- | --- |\n",
    "| 11/30/2022 | 0.026724797 | 1.17E-05 | 2.25E-05 | 0 | 24.437378 | 0 | 0.30 |"
   ]
  },
  {
   "cell_type": "code",
   "execution_count": null,
   "id": "9da82cc0",
   "metadata": {},
   "outputs": [],
   "source": [
    "data = []\n",
    "for files in glob.glob(r'Path to all the AV curves files\\\\'+'*.csv'):\n",
    "    f=pd.read_csv(files)\n",
    "    f['Name'] = files.split('\\\\')[-1].split('Hyrdologic_AV_Curve_')[-1].split('.csv')[0] ### Adding a column of the name of lake to each AV file\n",
    "    f['Date'] = pd.to_datetime(f['Date'])\n",
    "    ### Considering the monthly cumulative precipitation for the regression\n",
    "    f_monthly = f.groupby(f['Date'].dt.to_period('M')).sum()\n",
    "\n",
    "    # Reset the index of the resulting DataFrame\n",
    "    f_monthly.reset_index(inplace=True)\n",
    "\n",
    "    # Rename the 'precipitation' column to 'monthly_precipitation'\n",
    "    f_monthly.rename(columns={'precipitation': 'monthly_precipitation'}, inplace=True)\n",
    "\n",
    "    # Merge the monthly precipitation data with the original DataFrame\n",
    "    f_merged = pd.merge(f, f_monthly, left_on=f['Date'].dt.to_period('M'), right_on=f_monthly['Date'], how='left')\n",
    "\n",
    "    # Drop the duplicate 'Date' column and unnecessary columns\n",
    "    f_merged.drop(columns=['key_0', 'Date_y','esm_mean_y','esm_min_y','esm_max_y','Area_y','Height_y', 'temperature_y','TPI_y'], inplace=True)\n",
    "\n",
    "    # # Rename the 'Date_x' column to 'Date'\n",
    "    f_merged.rename(columns={'Date_x': 'Date','esm_max_x':'esm_max','esm_min_x':'esm_min','esm_mean_x':'esm_mean','Area_x':'Area','Height_x':'Height','temperature_x':'temperature','TPI_x':'TPI'}, inplace=True)\n",
    "\n",
    "    # # Print the resulting DataFrame\n",
    "    f_merged\n",
    "    data.append(f_merged)"
   ]
  },
  {
   "cell_type": "code",
   "execution_count": null,
   "id": "8303b682",
   "metadata": {},
   "outputs": [],
   "source": [
    "### Combining all the AV Curves files irrespective of the regime together.\n",
    "combined_df = pd.concat(data, ignore_index=True)"
   ]
  },
  {
   "cell_type": "code",
   "execution_count": null,
   "id": "6cc4f51a",
   "metadata": {},
   "outputs": [],
   "source": [
    "combined_df['precipitation'] = combined_df['precipitation'].apply(lambda x: 0 if x <= 0 else x)\n",
    "combined_df=combined_df.dropna().reset_index(drop = True)\n",
    "combined_df['esm_mean (millionm3)']=combined_df['esm_mean']*1000 # Converting to km3\n",
    "combined_df['esm_max (millionm3)']=combined_df['esm_max']*1000\n",
    "combined_df['esm_min (millionm3)']=combined_df['esm_min']*1000\n",
    "index_to_drop = []\n",
    "for i in range(len(combined_df)):\n",
    "    if 'Dighi' in combined_df['Name'][i]:  # If you want to drop a particular waterbody use this line other wise comment it.\n",
    "        index_to_drop.append(i)\n",
    "combined_df=combined_df.drop(index_to_drop).reset_index(drop = True)"
   ]
  },
  {
   "cell_type": "code",
   "execution_count": null,
   "id": "2f1ee64d",
   "metadata": {},
   "outputs": [],
   "source": [
    "train_data, test_data = train_test_split(combined_df, test_size=0.2, random_state=47)"
   ]
  },
  {
   "cell_type": "code",
   "execution_count": null,
   "id": "3faf2f2e",
   "metadata": {},
   "outputs": [],
   "source": [
    "train_data = train_data.reset_index(drop = True)\n",
    "test_data = test_data.reset_index(drop = True)"
   ]
  },
  {
   "cell_type": "code",
   "execution_count": null,
   "id": "6d3b6c6a",
   "metadata": {},
   "outputs": [],
   "source": [
    "train_data = train_data.sort_values(by='Area')"
   ]
  },
  {
   "cell_type": "code",
   "execution_count": null,
   "id": "3aae6261",
   "metadata": {},
   "outputs": [],
   "source": [
    "x = train_data[['Area','temperature','monthly_precipitation','TPI']]\n",
    "y = train_data['esm_mean (millionm3)']\n",
    " \n",
    "# with sklearn\n",
    "regr = linear_model.LinearRegression()\n",
    "regr.fit(x, y)\n",
    "\n",
    "print('Intercept: \\n', regr.intercept_)\n",
    "print('Coefficients: \\n', regr.coef_)"
   ]
  },
  {
   "cell_type": "code",
   "execution_count": null,
   "id": "1d9349ea",
   "metadata": {},
   "outputs": [],
   "source": [
    "# with statsmodels\n",
    "x = sm.add_constant(x) # adding a constant\n",
    " \n",
    "model = sm.OLS(y, x).fit()\n",
    "predictions = model.predict(x) \n",
    " \n",
    "print_model = model.summary()\n",
    "print(print_model)"
   ]
  },
  {
   "cell_type": "code",
   "execution_count": null,
   "id": "93e3e0b1",
   "metadata": {},
   "outputs": [],
   "source": [
    "train_data['pred_mean_million_m3'] = predictions"
   ]
  },
  {
   "cell_type": "code",
   "execution_count": null,
   "id": "e9882830",
   "metadata": {},
   "outputs": [],
   "source": [
    "train_data.head()"
   ]
  },
  {
   "cell_type": "code",
   "execution_count": null,
   "id": "a7b2b2ac",
   "metadata": {},
   "outputs": [],
   "source": [
    "from matplotlib.colors import ListedColormap\n",
    "fig,ax = plt.subplots(figsize = (10,6))\n",
    "# marker_shape = train_data['TPI'].astype('string')\n",
    "# marker_shape = marker_shape.tolist() \n",
    "# colors = ['blue', 'green', 'red']\n",
    "# cmap = ListedColormap(colors)\n",
    "cmap='viridis'\n",
    "ax.scatter(train_data['Area'],train_data['esm_mean (millionm3)'],color = 'black',label = 'Citizen Science & Satellite Based Estimated Volume')\n",
    "ax.plot(train_data['Area'],train_data['pred_mean_million_m3'],color = 'blue',label = 'Regression Line')\n",
    "ax.set_title('Hydrologic Regime based A-V Curves', fontname=\"Times New Roman\", fontweight=\"bold\",fontsize = 18)\n",
    "ax.set_ylabel('Volume of Water Stored ($Million$ $M^3$)',fontname=\"Times New Roman\", fontweight=\"bold\",fontsize = 13)\n",
    "ax.set_xlabel('Area of Water Body ($Km^2$)',fontname=\"Times New Roman\", fontweight=\"bold\",fontsize = 13)\n",
    "ax.legend()\n",
    "# textstr = '\\n'.join((\n",
    "#     r'$R^2=%.2f$' % (model.rsquared, ),\n",
    "#     r'Volume of water body = Area x 2.5262 + Precipitaion x 0.0024 + Temperature x (-0.1307) + TPI x 3.8387 + 1.3692'\n",
    "#     ))\n",
    "# textstr = '\\n'.join((\n",
    "#     r'$R^2=%.2f$' % (model.rsquared, ),\n",
    "#     '---------------------------------',\n",
    "#     r'Volume depends on:', 'i) Area' ,\n",
    "#        'ii) Precipitation' , 'iii) Temperature' ,'iv) TPI (Terrain Roughness)'\n",
    "#     ))\n",
    "textstr = '\\n'.join((\n",
    "    r'$R^2=%.2f$' % (model.rsquared, ),\n",
    "    r'y = %.2f x Area %.2f x Temperature +' '\\n'\n",
    "    '%.3f x Monthly'' ' ' Precipitation + %.2f x TPI + %.2f ' % (model.params.Area, model.params.temperature,model.params.monthly_precipitation,model.params.TPI,model.params.const)\n",
    "    ))\n",
    "props = dict(boxstyle='round', facecolor='grey', alpha=0.1)\n",
    "ax.text(0.020, 0.85, textstr, transform=ax.transAxes, fontsize=14,\n",
    "        verticalalignment='top', bbox=props)"
   ]
  },
  {
   "cell_type": "code",
   "execution_count": null,
   "id": "3f888c25",
   "metadata": {},
   "outputs": [],
   "source": []
  }
 ],
 "metadata": {
  "kernelspec": {
   "display_name": "Python 3 (ipykernel)",
   "language": "python",
   "name": "python3"
  },
  "language_info": {
   "codemirror_mode": {
    "name": "ipython",
    "version": 3
   },
   "file_extension": ".py",
   "mimetype": "text/x-python",
   "name": "python",
   "nbconvert_exporter": "python",
   "pygments_lexer": "ipython3",
   "version": "3.9.16"
  }
 },
 "nbformat": 4,
 "nbformat_minor": 5
}
